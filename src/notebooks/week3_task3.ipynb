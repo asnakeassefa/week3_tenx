{
 "cells": [
  {
   "cell_type": "code",
   "execution_count": 22,
   "metadata": {},
   "outputs": [],
   "source": [
    "import pandas as pd\n",
    "from scipy.stats import chi2_contingency\n"
   ]
  },
  {
   "cell_type": "code",
   "execution_count": 23,
   "metadata": {},
   "outputs": [],
   "source": [
    "def chi_square_of_data_cols(data):\n",
    "    from scipy.stats import chi2_contingency\n",
    "    # Chi-square test for risk and province\n",
    "    res = pd.crosstab(data['Province'], data['StatutoryRiskType'])\n",
    "    chi2, p_value, _, _ = chi2_contingency(res)\n",
    "\n",
    "    if p_value < 0.05:\n",
    "        print(\"Reject the null hypothesis. There are significant risk differences across provinces.\")\n",
    "    else:\n",
    "        print(\"Fail to reject the null hypothesis. No significant risk differences across provinces.\")\n",
    "\n",
    "    # Chi-square test for zip codes\n",
    "    res = pd.crosstab(data['PostalCode'], data['StatutoryRiskType'])\n",
    "    chi2, p_value, _, _ = chi2_contingency(res)\n",
    "\n",
    "    if p_value < 0.05:\n",
    "        print(\"Reject the null hypothesis. There are significant risk differences between zip codes.\")\n",
    "    else:\n",
    "        print(\"Fail to reject the null hypothesis. No significant risk differences between zip codes.\")\n",
    "\n",
    "    # "
   ]
  },
  {
   "cell_type": "code",
   "execution_count": null,
   "metadata": {},
   "outputs": [],
   "source": [
    "def stati"
   ]
  },
  {
   "cell_type": "code",
   "execution_count": 24,
   "metadata": {},
   "outputs": [],
   "source": [
    "def main():\n",
    "    print(\"Loading data...\")\n",
    "    data = pd.read_csv(\"../../data/data.txt\", delimiter='|')\n",
    "    chi_square_of_data_cols(data)"
   ]
  },
  {
   "cell_type": "code",
   "execution_count": 25,
   "metadata": {},
   "outputs": [
    {
     "name": "stdout",
     "output_type": "stream",
     "text": [
      "Loading data...\n"
     ]
    },
    {
     "name": "stderr",
     "output_type": "stream",
     "text": [
      "/var/folders/b3/zdl2xxh53jgc4hjrq6hk1p9c0000gn/T/ipykernel_2435/645311261.py:3: DtypeWarning: Columns (32,37) have mixed types. Specify dtype option on import or set low_memory=False.\n",
      "  data = pd.read_csv(\"../../data/data.txt\", delimiter='|')\n"
     ]
    },
    {
     "name": "stdout",
     "output_type": "stream",
     "text": [
      "Fail to reject the null hypothesis. No significant risk differences across provinces.\n",
      "Fail to reject the null hypothesis. No significant risk differences between zip codes.\n"
     ]
    }
   ],
   "source": [
    "main()"
   ]
  }
 ],
 "metadata": {
  "kernelspec": {
   "display_name": "venv",
   "language": "python",
   "name": "python3"
  },
  "language_info": {
   "codemirror_mode": {
    "name": "ipython",
    "version": 3
   },
   "file_extension": ".py",
   "mimetype": "text/x-python",
   "name": "python",
   "nbconvert_exporter": "python",
   "pygments_lexer": "ipython3",
   "version": "3.12.3"
  }
 },
 "nbformat": 4,
 "nbformat_minor": 2
}
